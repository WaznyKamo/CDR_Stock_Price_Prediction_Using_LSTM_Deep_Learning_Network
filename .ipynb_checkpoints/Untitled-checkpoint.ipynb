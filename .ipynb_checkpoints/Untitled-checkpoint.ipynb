{
 "cells": [
  {
   "cell_type": "code",
   "execution_count": 4,
   "id": "talented-concert",
   "metadata": {},
   "outputs": [],
   "source": [
    "from bs4 import BeautifulSoup\n",
    "import requests\n",
    "import pandas as pd"
   ]
  },
  {
   "cell_type": "code",
   "execution_count": 2,
   "id": "afraid-scientist",
   "metadata": {},
   "outputs": [],
   "source": [
    "url = 'https://www.money.pl/gielda/terminarz/'"
   ]
  },
  {
   "cell_type": "code",
   "execution_count": 78,
   "id": "institutional-appearance",
   "metadata": {},
   "outputs": [
    {
     "name": "stdout",
     "output_type": "stream",
     "text": [
      "2021-04-21Grupa Żywiec SAPublikacja skonsolidowanego raportu finansowego za 1 kwartał\n",
      "2021-04-21Unima 2000 SASkonsolidowany raport roczny\n",
      "2021-04-21Unima 2000 SARaport roczny\n",
      "2021-04-21Orange Polska SAPublikacja skonsolidowanego raportu finansowego za 1 kwartał\n",
      "2021-04-21TIM SASkonsolidowany raport roczny\n",
      "2021-04-21TIM SARaport roczny\n",
      "2021-04-21Kruszwica SARaport roczny\n",
      "2021-04-21Kruszwica SASkonsolidowany raport roczny\n",
      "2021-04-21Grupa Kęty SAPublikacja skonsolidowanego raportu finansowego za 1 kwartał\n",
      "2021-04-21IQ Partners SASkonsolidowany raport roczny\n",
      "2021-04-21Inter Cars SARaport roczny\n",
      "2021-04-21Imagis SA w restrukturyzacjiRaport roczny\n",
      "2021-04-21Imagis SA w restrukturyzacjiSkonsolidowany raport roczny\n",
      "2021-04-21i2 Development SASkonsolidowany raport roczny\n",
      "2021-04-21i2 Development SARaport roczny\n",
      "2021-04-21Artifex Mundi SAkapitał docelowy, program motywacyjny\n",
      "2021-04-21Aqua SARaport roczny\n",
      "2021-04-20Venture Inc SAZWZ: wypłata dywidendy - 0,07 PLN, emisja warrantów serii A i akcji serii H\n",
      "2021-04-20GPM Vindexus SASkonsolidowany raport roczny\n",
      "2021-04-20GPM Vindexus SARaport roczny\n"
     ]
    }
   ],
   "source": [
    "response = requests.get(url)\n",
    "soup = BeautifulSoup(response.text, features='html.parser')\n",
    "counter = 0\n",
    "for row in soup.find_all('tr', attrs={\"class\": \"npeb8d-3 fNNzsN\"})[1:]:\n",
    "    date = row.get_text()\n",
    "    \n",
    "    print(date)"
   ]
  },
  {
   "cell_type": "code",
   "execution_count": 76,
   "id": "linear-reasoning",
   "metadata": {},
   "outputs": [
    {
     "data": {
      "text/html": [
       "<div>\n",
       "<style scoped>\n",
       "    .dataframe tbody tr th:only-of-type {\n",
       "        vertical-align: middle;\n",
       "    }\n",
       "\n",
       "    .dataframe tbody tr th {\n",
       "        vertical-align: top;\n",
       "    }\n",
       "\n",
       "    .dataframe thead th {\n",
       "        text-align: right;\n",
       "    }\n",
       "</style>\n",
       "<table border=\"1\" class=\"dataframe\">\n",
       "  <thead>\n",
       "    <tr style=\"text-align: right;\">\n",
       "      <th></th>\n",
       "      <th>Data</th>\n",
       "      <th>Spółka</th>\n",
       "      <th>Komunikat</th>\n",
       "    </tr>\n",
       "  </thead>\n",
       "  <tbody>\n",
       "    <tr>\n",
       "      <th>1</th>\n",
       "      <td>2021-04-21Grupa Żywiec SAPublikacja skonsolido...</td>\n",
       "      <td>2021-04-21Unima 2000 SASkonsolidowany raport r...</td>\n",
       "      <td>2021-04-21Unima 2000 SARaport roczny</td>\n",
       "    </tr>\n",
       "    <tr>\n",
       "      <th>2</th>\n",
       "      <td>2021-04-21Orange Polska SAPublikacja skonsolid...</td>\n",
       "      <td>2021-04-21TIM SASkonsolidowany raport roczny</td>\n",
       "      <td>2021-04-21TIM SARaport roczny</td>\n",
       "    </tr>\n",
       "    <tr>\n",
       "      <th>3</th>\n",
       "      <td>2021-04-21Kruszwica SARaport roczny</td>\n",
       "      <td>2021-04-21Kruszwica SASkonsolidowany raport ro...</td>\n",
       "      <td>2021-04-21Grupa Kęty SAPublikacja skonsolidowa...</td>\n",
       "    </tr>\n",
       "    <tr>\n",
       "      <th>4</th>\n",
       "      <td>2021-04-21IQ Partners SASkonsolidowany raport ...</td>\n",
       "      <td>2021-04-21Inter Cars SARaport roczny</td>\n",
       "      <td>2021-04-21Imagis SA w restrukturyzacjiRaport r...</td>\n",
       "    </tr>\n",
       "    <tr>\n",
       "      <th>5</th>\n",
       "      <td>2021-04-21Imagis SA w restrukturyzacjiSkonsoli...</td>\n",
       "      <td>2021-04-21i2 Development SASkonsolidowany rapo...</td>\n",
       "      <td>2021-04-21i2 Development SARaport roczny</td>\n",
       "    </tr>\n",
       "    <tr>\n",
       "      <th>6</th>\n",
       "      <td>2021-04-21Artifex Mundi SAkapitał docelowy, pr...</td>\n",
       "      <td>2021-04-21Aqua SARaport roczny</td>\n",
       "      <td>2021-04-20Venture Inc SAZWZ: wypłata dywidendy...</td>\n",
       "    </tr>\n",
       "  </tbody>\n",
       "</table>\n",
       "</div>"
      ],
      "text/plain": [
       "                                                Data  \\\n",
       "1  2021-04-21Grupa Żywiec SAPublikacja skonsolido...   \n",
       "2  2021-04-21Orange Polska SAPublikacja skonsolid...   \n",
       "3                2021-04-21Kruszwica SARaport roczny   \n",
       "4  2021-04-21IQ Partners SASkonsolidowany raport ...   \n",
       "5  2021-04-21Imagis SA w restrukturyzacjiSkonsoli...   \n",
       "6  2021-04-21Artifex Mundi SAkapitał docelowy, pr...   \n",
       "\n",
       "                                              Spółka  \\\n",
       "1  2021-04-21Unima 2000 SASkonsolidowany raport r...   \n",
       "2       2021-04-21TIM SASkonsolidowany raport roczny   \n",
       "3  2021-04-21Kruszwica SASkonsolidowany raport ro...   \n",
       "4               2021-04-21Inter Cars SARaport roczny   \n",
       "5  2021-04-21i2 Development SASkonsolidowany rapo...   \n",
       "6                     2021-04-21Aqua SARaport roczny   \n",
       "\n",
       "                                           Komunikat  \n",
       "1               2021-04-21Unima 2000 SARaport roczny  \n",
       "2                      2021-04-21TIM SARaport roczny  \n",
       "3  2021-04-21Grupa Kęty SAPublikacja skonsolidowa...  \n",
       "4  2021-04-21Imagis SA w restrukturyzacjiRaport r...  \n",
       "5           2021-04-21i2 Development SARaport roczny  \n",
       "6  2021-04-20Venture Inc SAZWZ: wypłata dywidendy...  "
      ]
     },
     "execution_count": 76,
     "metadata": {},
     "output_type": "execute_result"
    }
   ],
   "source": [
    "stock_data"
   ]
  },
  {
   "cell_type": "code",
   "execution_count": null,
   "id": "registered-grain",
   "metadata": {},
   "outputs": [],
   "source": []
  }
 ],
 "metadata": {
  "kernelspec": {
   "display_name": "Python 3",
   "language": "python",
   "name": "python3"
  },
  "language_info": {
   "codemirror_mode": {
    "name": "ipython",
    "version": 3
   },
   "file_extension": ".py",
   "mimetype": "text/x-python",
   "name": "python",
   "nbconvert_exporter": "python",
   "pygments_lexer": "ipython3",
   "version": "3.8.8"
  }
 },
 "nbformat": 4,
 "nbformat_minor": 5
}
