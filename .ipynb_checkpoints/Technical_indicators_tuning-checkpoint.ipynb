{
 "cells": [
  {
   "cell_type": "code",
   "execution_count": 1,
   "id": "intended-authorization",
   "metadata": {
    "scrolled": false
   },
   "outputs": [
    {
     "name": "stdout",
     "output_type": "stream",
     "text": [
      "2.4.0\n",
      "2.4.3\n",
      "[PhysicalDevice(name='/physical_device:GPU:0', device_type='GPU')]\n"
     ]
    }
   ],
   "source": [
    "import tensorflow as tf\n",
    "print(tf.__version__)\n",
    "import keras\n",
    "print(keras.__version__)\n",
    "print(tf.config.list_physical_devices('GPU'))\n",
    "physical_devices = tf.config.list_physical_devices('GPU')\n",
    "tf.config.experimental.set_memory_growth(physical_devices[0], enable=True)"
   ]
  },
  {
   "cell_type": "code",
   "execution_count": 12,
   "id": "reliable-oracle",
   "metadata": {},
   "outputs": [
    {
     "data": {
      "text/html": [
       "<style>.container { width:80% !important; }</style>"
      ],
      "text/plain": [
       "<IPython.core.display.HTML object>"
      ]
     },
     "metadata": {},
     "output_type": "display_data"
    }
   ],
   "source": [
    "from IPython.core.display import display, HTML\n",
    "display(HTML(\"<style>.container { width:80% !important; }</style>\"))"
   ]
  },
  {
   "cell_type": "code",
   "execution_count": 2,
   "id": "fuzzy-carolina",
   "metadata": {},
   "outputs": [],
   "source": [
    "import pandas as pd\n",
    "import numpy as np\n",
    "import os\n",
    "from sklearn.preprocessing import MinMaxScaler"
   ]
  },
  {
   "cell_type": "markdown",
   "id": "twelve-april",
   "metadata": {},
   "source": [
    "## Load data"
   ]
  },
  {
   "cell_type": "code",
   "execution_count": 3,
   "id": "persistent-hollow",
   "metadata": {
    "scrolled": true
   },
   "outputs": [
    {
     "name": "stdout",
     "output_type": "stream",
     "text": [
      "Loaded file: acp_d.csv\n",
      "Loaded file: ale_d.csv\n",
      "Loaded file: alr_d.csv\n",
      "Loaded file: ccc_d.csv\n",
      "Loaded file: cdr_d.csv\n",
      "Loaded file: cps_d.csv\n",
      "Loaded file: dnp_d.csv\n",
      "Loaded file: jsw_d.csv\n",
      "Loaded file: kgh_d.csv\n",
      "Loaded file: lpp_d.csv\n",
      "Loaded file: lts_d.csv\n",
      "Loaded file: opl_d.csv\n",
      "Loaded file: peo_d.csv\n",
      "Loaded file: pge_d.csv\n",
      "Loaded file: pgn_d.csv\n",
      "Loaded file: pkn_d.csv\n",
      "Loaded file: pko_d.csv\n",
      "Loaded file: pzu_d.csv\n",
      "Loaded file: san_d.csv\n",
      "Loaded file: tpe_d.csv\n"
     ]
    }
   ],
   "source": [
    "directory = \"data/\"\n",
    "stock_data_list = []\n",
    "\n",
    "for filename in os.listdir(directory):\n",
    "  file_path = os.path.join(directory, filename)\n",
    "  stock_data = pd.read_csv(file_path)\n",
    "  stock_data = stock_data.rename(columns={'Data': 'Date', 'Otwarcie': 'Open', 'Najwyzszy': 'Highest', 'Najnizszy': 'Lowest', 'Zamkniecie': 'Close', 'Wolumen': 'Volume'})\n",
    "  stock_data['Date'] = pd.to_datetime(stock_data.Date)\n",
    "  stock_data_list.append(stock_data)\n",
    "  print('Loaded file: ' + filename)\n",
    "\n",
    "for i in range(len(stock_data_list)):\n",
    "  stock_data_list[i] = stock_data_list[i].dropna()"
   ]
  },
  {
   "cell_type": "code",
   "execution_count": 4,
   "id": "planned-keeping",
   "metadata": {},
   "outputs": [],
   "source": [
    "def get_moving_average(data, period):\n",
    "    data['MA'] = data['Close'].rolling(period).mean()\n",
    "    return data"
   ]
  },
  {
   "cell_type": "code",
   "execution_count": 5,
   "id": "growing-protection",
   "metadata": {},
   "outputs": [],
   "source": [
    "def get_RSI (data, period):\n",
    "    increase_difference, decrease_difference = data['Close'].diff(), data['Close'].diff()\n",
    "    increase_difference[increase_difference < 0] = 0\n",
    "    decrease_difference[decrease_difference > 0] = 0\n",
    "    roll_increase = increase_difference.ewm(span = period).mean()\n",
    "    roll_decrease = decrease_difference.abs().ewm(span = period).mean()\n",
    "    RS = roll_increase / roll_decrease\n",
    "    data['RSI'] = 100 - (100 / (1 + RS))"
   ]
  },
  {
   "cell_type": "code",
   "execution_count": 6,
   "id": "strategic-delta",
   "metadata": {},
   "outputs": [],
   "source": [
    "def get_ROC(data):\n",
    "    data['ROC'] = data['Close'].pct_change()\n",
    "    return(data)"
   ]
  },
  {
   "cell_type": "code",
   "execution_count": 7,
   "id": "changing-thursday",
   "metadata": {},
   "outputs": [],
   "source": [
    "def get_stochastic_oscillator(data, period):\n",
    "    L14, H14 = data['Close'].rolling(period).min(), data['Close'].rolling(period).max()\n",
    "    data['K'] = (data['Close'] - L14)/(H14 - L14)\n",
    "    return(data)"
   ]
  },
  {
   "cell_type": "code",
   "execution_count": 11,
   "id": "irish-hostel",
   "metadata": {},
   "outputs": [],
   "source": [
    "def get_SO_moving_average(data, period):\n",
    "    L14, H14 = data['Close'].rolling(so_period).min(), data['Close'].rolling(so_period).max()\n",
    "    K = (data['Close'] - L14)/(H14 - L14)\n",
    "    data['D'] = data['K'].rolling(so_d_period).mean()\n",
    "    return(data)"
   ]
  },
  {
   "cell_type": "code",
   "execution_count": null,
   "id": "common-elimination",
   "metadata": {},
   "outputs": [],
   "source": [
    "def get_MACD(data, period_long, period_short):\n",
    "    EMA_long = data['Close'].ewm(period_long).mean()\n",
    "    EMA_short = data['Close'].ewm(period_short).mean()\n",
    "    data['MACD'] = EMA_short - EMA_long\n",
    "    return(data)"
   ]
  },
  {
   "cell_type": "code",
   "execution_count": null,
   "id": "controversial-november",
   "metadata": {},
   "outputs": [],
   "source": [
    "# TODO: add functions for MACD related indicators"
   ]
  },
  {
   "cell_type": "code",
   "execution_count": null,
   "id": "premier-ethernet",
   "metadata": {},
   "outputs": [],
   "source": [
    "def get_TEMA(data, period):\n",
    "    SEMA = data['Close'].ewm(period).mean()\n",
    "    DEMA = SEMA.ewm(period).mean()\n",
    "    data['TEMA'] = DEMA.ewm(period).mean()\n",
    "    return(data)"
   ]
  },
  {
   "cell_type": "code",
   "execution_count": null,
   "id": "ancient-veteran",
   "metadata": {},
   "outputs": [],
   "source": [
    "def get_CGI(data, period):\n",
    "    typical_price = (data['Highest'] + data['Lowest'] + data['Close']) / 3\n",
    "    MA = typical_price.rolling(period).mean()\n",
    "    mean_deviation = (MA - typical_price).abs().rolling(period).mean()\n",
    "    data['CCI'] = (typical_price - MA) / (0.15 * mean_deviation)\n",
    "    return(data)"
   ]
  },
  {
   "cell_type": "code",
   "execution_count": null,
   "id": "capital-turkish",
   "metadata": {},
   "outputs": [],
   "source": [
    "def get_Williams_Percent_Range(data, period):\n",
    "    data['Percent_Range'] = (data['Highest'].rolling(period).max() - data['Close']) / (data['Highest'].rolling(period).max() - data['Lowest'].rolling(period).min())\n",
    "    return(data)"
   ]
  },
  {
   "cell_type": "code",
   "execution_count": 13,
   "id": "several-supplement",
   "metadata": {},
   "outputs": [],
   "source": [
    "def scale_data(data):\n",
    "  list_of_features = []\n",
    "  for column in data.columns:\n",
    "    list_of_features.append(data[column])\n",
    "\n",
    "  dataset = np.transpose(list_of_features)\n",
    "\n",
    "  scaler = MinMaxScaler(feature_range=(0,1))\n",
    "  scaled_data = scaler.fit_transform(dataset)\n",
    "\n",
    "  return scaled_data, scaler"
   ]
  },
  {
   "cell_type": "code",
   "execution_count": 14,
   "id": "gentle-carolina",
   "metadata": {},
   "outputs": [],
   "source": [
    "def prepare_input_and_output(data, number_of_sessions=60):\n",
    "  # number_of_sessions - number of considered previous sessions as an input\n",
    "  X = []\n",
    "  Y = []\n",
    "  for i in range(number_of_sessions, data.shape[0]):\n",
    "    X.append(data[i-number_of_sessions:i, :])\n",
    "    Y.append(data[i, :])\n",
    "  return X, Y"
   ]
  },
  {
   "cell_type": "markdown",
   "id": "least-loading",
   "metadata": {},
   "source": [
    "# Testing for the best technical indicators parameters"
   ]
  },
  {
   "cell_type": "markdown",
   "id": "hazardous-sampling",
   "metadata": {},
   "source": [
    "### Moving average"
   ]
  },
  {
   "cell_type": "code",
   "execution_count": null,
   "id": "dressed-setup",
   "metadata": {},
   "outputs": [],
   "source": [
    "periods = [3, 5, 10, 15, 20, 30, 45, 60, 80, 100, 125, 150, 200]"
   ]
  }
 ],
 "metadata": {
  "kernelspec": {
   "display_name": "Python 3",
   "language": "python",
   "name": "python3"
  },
  "language_info": {
   "codemirror_mode": {
    "name": "ipython",
    "version": 3
   },
   "file_extension": ".py",
   "mimetype": "text/x-python",
   "name": "python",
   "nbconvert_exporter": "python",
   "pygments_lexer": "ipython3",
   "version": "3.8.8"
  }
 },
 "nbformat": 4,
 "nbformat_minor": 5
}
