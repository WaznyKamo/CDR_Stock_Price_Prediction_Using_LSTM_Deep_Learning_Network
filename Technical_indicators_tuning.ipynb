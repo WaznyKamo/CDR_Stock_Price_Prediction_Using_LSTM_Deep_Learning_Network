{
 "cells": [
  {
   "cell_type": "code",
   "execution_count": 1,
   "id": "intended-authorization",
   "metadata": {},
   "outputs": [
    {
     "name": "stdout",
     "output_type": "stream",
     "text": [
      "2.4.0\n",
      "2.4.3\n",
      "[PhysicalDevice(name='/physical_device:GPU:0', device_type='GPU')]\n"
     ]
    }
   ],
   "source": [
    "import tensorflow as tf\n",
    "print(tf.__version__)\n",
    "import keras\n",
    "print(keras.__version__)\n",
    "print(tf.config.list_physical_devices('GPU'))\n",
    "physical_devices = tf.config.list_physical_devices('GPU')\n",
    "tf.config.experimental.set_memory_growth(physical_devices[0], enable=True)"
   ]
  },
  {
   "cell_type": "code",
   "execution_count": 2,
   "id": "fuzzy-carolina",
   "metadata": {},
   "outputs": [],
   "source": [
    "import pandas as pd\n",
    "import numpy as np\n",
    "import os\n",
    "from sklearn.preprocessing import MinMaxScaler"
   ]
  },
  {
   "cell_type": "code",
   "execution_count": 4,
   "id": "persistent-hollow",
   "metadata": {
    "scrolled": true
   },
   "outputs": [
    {
     "name": "stdout",
     "output_type": "stream",
     "text": [
      "Loaded file: acp_d.csv\n",
      "Loaded file: ale_d.csv\n",
      "Loaded file: alr_d.csv\n",
      "Loaded file: ccc_d.csv\n",
      "Loaded file: cdr_d.csv\n",
      "Loaded file: cps_d.csv\n",
      "Loaded file: dnp_d.csv\n",
      "Loaded file: jsw_d.csv\n",
      "Loaded file: kgh_d.csv\n",
      "Loaded file: lpp_d.csv\n",
      "Loaded file: lts_d.csv\n",
      "Loaded file: opl_d.csv\n",
      "Loaded file: peo_d.csv\n",
      "Loaded file: pge_d.csv\n",
      "Loaded file: pgn_d.csv\n",
      "Loaded file: pkn_d.csv\n",
      "Loaded file: pko_d.csv\n",
      "Loaded file: pzu_d.csv\n",
      "Loaded file: san_d.csv\n",
      "Loaded file: tpe_d.csv\n"
     ]
    }
   ],
   "source": [
    "directory = \"data/\"\n",
    "stock_data_list = []\n",
    "\n",
    "for filename in os.listdir(directory):\n",
    "  file_path = os.path.join(directory, filename)\n",
    "  stock_data = pd.read_csv(file_path)\n",
    "  stock_data = stock_data.rename(columns={'Data': 'Date', 'Otwarcie': 'Open', 'Najwyzszy': 'Highest', 'Najnizszy': 'Lowest', 'Zamkniecie': 'Close', 'Wolumen': 'Volume'})\n",
    "  stock_data['Date'] = pd.to_datetime(stock_data.Date)\n",
    "  stock_data_list.append(stock_data)\n",
    "  print('Loaded file: ' + filename)\n",
    "\n",
    "for i in range(len(stock_data_list)):\n",
    "  stock_data_list[i] = stock_data_list[i].dropna()"
   ]
  },
  {
   "cell_type": "code",
   "execution_count": null,
   "id": "planned-keeping",
   "metadata": {},
   "outputs": [],
   "source": [
    "def get_moving_average(data, period):\n",
    "    data['MA'] = data['Close'].rolling(period).mean()\n",
    "    return data"
   ]
  },
  {
   "cell_type": "code",
   "execution_count": null,
   "id": "growing-protection",
   "metadata": {},
   "outputs": [],
   "source": [
    "def get_RSI (data, period):\n",
    "    increase_difference, decrease_difference = data['Close'].diff(), data['Close'].diff()\n",
    "    increase_difference[increase_difference < 0] = 0\n",
    "    decrease_difference[decrease_difference > 0] = 0\n",
    "    roll_increase = increase_difference.ewm(span = period).mean()\n",
    "    roll_decrease = decrease_difference.abs().ewm(span = period).mean()\n",
    "    RS = roll_increase / roll_decrease\n",
    "    data['RSI'] = 100 - (100 / (1 + RS))"
   ]
  },
  {
   "cell_type": "code",
   "execution_count": null,
   "id": "strategic-delta",
   "metadata": {},
   "outputs": [],
   "source": [
    "def get_ROC(data):\n",
    "    data['ROC'] = data['Close'].pct_change()\n",
    "    return(data)"
   ]
  },
  {
   "cell_type": "code",
   "execution_count": null,
   "id": "changing-thursday",
   "metadata": {},
   "outputs": [],
   "source": [
    "def get_stochastic_oscillator(data, period):\n",
    "    L14, H14 = data['Close'].rolling(period).min(), data['Close'].rolling(period).max()\n",
    "    data['K'] = (data['Close'] - L14)/(H14 - L14)\n",
    "    return(data)"
   ]
  },
  {
   "cell_type": "code",
   "execution_count": null,
   "id": "irish-hostel",
   "metadata": {},
   "outputs": [],
   "source": [
    "def get_SO_moving_average(data, period):\n",
    "    L14, H14 = data['Close'].rolling(so_period).min(), data['Close'].rolling(so_period).max()\n",
    "    K = (data['Close'] - L14)/(H14 - L14)\n",
    "\n",
    "  Moving average of the Stochastic Oscillator D\n",
    "  data['D'] = data['K'].rolling(so_d_period).mean()\n",
    "    return(data)"
   ]
  },
  {
   "cell_type": "code",
   "execution_count": null,
   "id": "capital-turkish",
   "metadata": {},
   "outputs": [],
   "source": []
  },
  {
   "cell_type": "code",
   "execution_count": null,
   "id": "enormous-exhaust",
   "metadata": {},
   "outputs": [],
   "source": [
    "def calculate_technical_indicators(data, rsi_period=10, so_period=14, so_d_period=4, tema_period=10, cgi_period=20, wpi_period=14):\n",
    "  # rsi_period - number of sessions considered when calculating RSI\n",
    "  # so_period - number of sessions considered when calculating stochastic oscillator K\n",
    "  # so_d_period - numbers of sessions considered when calculating moving average of the stochastic oscillator K\n",
    "  # tema_period - number of sessions considered when calculating TEMA\n",
    "  # cgi_period - number of sessions considered when calculating CGI\n",
    "  # wpi_period - number of sessions considered when calculating Williams' Percent Range\n",
    "\n",
    "  # Moving averages for periods of 10, 30 and 60 days\n",
    "#   data['MovingAverage4'] = data['Close'].rolling(4).mean()\n",
    "#   data['MovingAverage7'] = data['Close'].rolling(7).mean()\n",
    "  data['MovingAverage20'] = data['Close'].rolling(20).mean()\n",
    "\n",
    "  # Relative Strength Index RSI\n",
    "  increase_difference, decrease_difference = data['Close'].diff(), data['Close'].diff()\n",
    "  increase_difference[increase_difference < 0] = 0\n",
    "  decrease_difference[decrease_difference > 0] = 0\n",
    "  roll_increase = increase_difference.ewm(span = rsi_period).mean()\n",
    "  roll_decrease = decrease_difference.abs().ewm(span = rsi_period).mean()\n",
    "  RS = roll_increase / roll_decrease\n",
    "#  data['RSI'] = 100 - (100 / (1 + RS))\n",
    "\n",
    "  # Rate of Change ROC\n",
    "#  data['ROC'] = data['Close'].pct_change()\n",
    "\n",
    "  # Stochastic Oscillator K\n",
    "  L14, H14 = data['Close'].rolling(so_period).min(), data['Close'].rolling(so_period).max()\n",
    "#  data['K'] = (data['Close'] - L14)/(H14 - L14)\n",
    "\n",
    "  # Moving average of the Stochastic Oscillator D\n",
    "#   data['D'] = data['K'].rolling(so_d_period).mean()\n",
    "\n",
    "  # Moving Average Convergence / Divergence MACD\n",
    "  EMA_26 = data['Close'].ewm(26).mean()\n",
    "  EMA_12 = data['Close'].ewm(12).mean()\n",
    "#   data['MACD'] = EMA_12 - EMA_26\n",
    "\n",
    "  # MACD Signal Line\n",
    "#   data['MACD_Signal'] = data['MACD'].ewm(9).mean()\n",
    "\n",
    "  # MACD histogram\n",
    "#   data['MACD_Histogram'] = data['MACD'] - data['MACD_Signal']\n",
    "\n",
    "  # Percentage Price Oscillator PPO\n",
    "#  data['PPO'] =(EMA_12 - EMA_26)/EMA_26\n",
    "\n",
    "  # Triple Exponential Moving Average TEMA\n",
    "  SEMA = data['Close'].ewm(tema_period).mean()\n",
    "  DEMA = SEMA.ewm(tema_period).mean()\n",
    "#   data['TEMA'] = DEMA.ewm(tema_period).mean()\n",
    "\n",
    "  # Commodity Channel Index CGI\n",
    "  typical_price = (data['Highest'] + data['Lowest'] + data['Close']) / 3\n",
    "  MA = typical_price.rolling(cgi_period).mean()\n",
    "  mean_deviation = (MA - typical_price).abs().rolling(cgi_period).mean()\n",
    "#  data['CCI'] = (typical_price - MA) / (0.15 * mean_deviation)\n",
    "\n",
    "  # Williams' Percent Range\n",
    "#  data['Percent_Range'] = (data['Highest'].rolling(wpi_period).max() - data['Close']) / (data['Highest'].rolling(wpi_period).max() - data['Lowest'].rolling(wpi_period).min())\n",
    "\n",
    "  return data"
   ]
  }
 ],
 "metadata": {
  "kernelspec": {
   "display_name": "Python 3",
   "language": "python",
   "name": "python3"
  },
  "language_info": {
   "codemirror_mode": {
    "name": "ipython",
    "version": 3
   },
   "file_extension": ".py",
   "mimetype": "text/x-python",
   "name": "python",
   "nbconvert_exporter": "python",
   "pygments_lexer": "ipython3",
   "version": "3.8.8"
  }
 },
 "nbformat": 4,
 "nbformat_minor": 5
}
